{
  "cells": [
    {
      "cell_type": "markdown",
      "metadata": {
        "id": "dsW7Y89xEvMx"
      },
      "source": [
        "1 - Escreva um programa que imprima os números de 1 a 100, mas para múltiplos de três imprima \"Fizz\" em vez do número e para os múltiplos de cinco imprima \"Buzz\". Para números que são múltiplos de ambos três e cinco, imprima \"FizzBuzz\"."
      ]
    },
    {
      "cell_type": "code",
      "execution_count": null,
      "metadata": {
        "id": "f2CnmL9rU9Jv"
      },
      "outputs": [],
      "source": [
        "for i in range(1, 100):\n",
        "    print(i)\n",
        "# Faça aqui"
      ]
    },
    {
      "cell_type": "markdown",
      "metadata": {
        "id": "zqZVqIKKFGb1"
      },
      "source": [
        "---\n",
        "2 - O programa inicia com \\( n = 100 \\) e aplica as regras do problema de Collatz:\n",
        "\n",
        "- Se \\( n \\) é par, divida-o por 2.\n",
        "- Se \\( n \\) é ímpar, multiplique por 3 e some 1.\n",
        "\n",
        "O programa repete essas operações, atualizando o valor de \\( n \\) a cada passo, até que \\( n \\) se torne 1. A sequência resultante é:\n",
        "\n",
        "\\[ 100, 50, 25, 76, 38, 19, 58, 29, 88, 44, 22, 11, 34, 17, 52, 26, 13, 40, 20, 10, 5, 16, 8, 4, 2, 1 \\]\n",
        "\n",
        "Esta é a sequência de Collatz começando em 100."
      ]
    },
    {
      "cell_type": "code",
      "execution_count": null,
      "metadata": {
        "id": "DnY-0OV1U-p4"
      },
      "outputs": [],
      "source": [
        "# Faça aqui\n"
      ]
    },
    {
      "cell_type": "markdown",
      "metadata": {
        "id": "sXLsXcCaREJa"
      },
      "source": [
        "-----\n",
        "3 - Crie um programa que converta de 1 a 10 de decimal para binário."
      ]
    },
    {
      "cell_type": "code",
      "execution_count": null,
      "metadata": {
        "id": "HvtGPGOGVAUY"
      },
      "outputs": [],
      "source": [
        "# Faça aqui\n"
      ]
    },
    {
      "cell_type": "markdown",
      "metadata": {
        "id": "o4ORMA_-RT6B"
      },
      "source": [
        "-----\n",
        "4 - Crie um programa que o usuário digita um número de valores a serem digitados. Ao final, ele informa o valor total e a média dos valores."
      ]
    },
    {
      "cell_type": "code",
      "execution_count": null,
      "metadata": {
        "id": "sl4eJTQCVBnO"
      },
      "outputs": [],
      "source": [
        "# Faça aqui\n",
        "\n",
        "5\n",
        "\n",
        "Digite um valor: 10\n",
        "Digite um valor: 5\n",
        "Digite um valor: 7\n",
        "Digite um valor: 10\n",
        "Digite um valor: 8\n",
        "\n",
        "A soma dos valores foi 40\n",
        "A média dos valores foi 8\n"
      ]
    },
    {
      "cell_type": "markdown",
      "metadata": {
        "id": "ol2DXl7sR5SA"
      },
      "source": [
        "-----\n",
        "5 - Crie um programa que crie uma uma piramide como a do desenho abaixo. O usuário deverá digitar o número de linhas e o programa irá criar como no exemplo abaixo"
      ]
    },
    {
      "cell_type": "code",
      "execution_count": null,
      "metadata": {
        "id": "Z5fpUSpkWBNj"
      },
      "outputs": [],
      "source": []
    },
    {
      "cell_type": "code",
      "execution_count": null,
      "metadata": {
        "colab": {
          "base_uri": "https://localhost:8080/"
        },
        "id": "ZhxwFtNfRJ_l",
        "outputId": "1c2d3fe9-9d72-43b3-999a-63fb7e970668"
      },
      "outputs": [
        {
          "name": "stdout",
          "output_type": "stream",
          "text": [
            "Digite o número de linhas da pirâmide: 10\n",
            "         *\n",
            "        ***\n",
            "       *****\n",
            "      *******\n",
            "     *********\n",
            "    ***********\n",
            "   *************\n",
            "  ***************\n",
            " *****************\n",
            "*******************\n"
          ]
        }
      ],
      "source": [
        "# Faça aqui\n"
      ]
    },
    {
      "cell_type": "markdown",
      "metadata": {
        "id": "8DgxRsMWUJux"
      },
      "source": [
        "-----\n",
        "6 - Crie um programa que crie uma arvore de natal como no desenho abaixo utilizando apenas linha e asteriscos."
      ]
    },
    {
      "cell_type": "code",
      "execution_count": null,
      "metadata": {
        "colab": {
          "base_uri": "https://localhost:8080/"
        },
        "id": "bq6HSeNHTjSY",
        "outputId": "33ae57ea-14d0-4cac-96e5-1075cd399fed"
      },
      "outputs": [
        {
          "name": "stdout",
          "output_type": "stream",
          "text": [
            "Digite a altura da árvore de Natal: 10\n",
            "         *\n",
            "        ***\n",
            "       *****\n",
            "      *******\n",
            "     *********\n",
            "    ***********\n",
            "   *************\n",
            "  ***************\n",
            " *****************\n",
            "*******************\n",
            "         |\n",
            "         |\n",
            "         |\n",
            "        |||\n"
          ]
        }
      ],
      "source": [
        "# Faça aqui\n"
      ]
    },
    {
      "cell_type": "markdown",
      "metadata": {
        "id": "YeZCirbPUzVS"
      },
      "source": [
        "-----\n",
        "7 - Crie um programa que peça ao usuário para inserir um número inteiro positivo e, em seguida, crie uma contagem regressiva a partir desse número até 1, imprimindo cada número no processo. Quando a contagem regressiva atingir 1, imprima \"Fogo!\".\n"
      ]
    },
    {
      "cell_type": "code",
      "execution_count": null,
      "metadata": {
        "id": "Rm3Paa49S7Md"
      },
      "outputs": [],
      "source": [
        "# Faça aqui\n",
        "10\n",
        "9\n",
        "8\n",
        "7\n",
        "6\n",
        "5\n",
        "4\n",
        "3\n",
        "2\n",
        "Fogo!!!!\n"
      ]
    },
    {
      "cell_type": "markdown",
      "metadata": {
        "id": "TDHerwwhWCme"
      },
      "source": [
        "8 - Crie um programa que o usuário digita o número de valores que irão percorrer, exemplo: de 1 a 20. O programa ao final apresenta uma lista de números pares e uma lista de números ímpares."
      ]
    },
    {
      "cell_type": "code",
      "execution_count": null,
      "metadata": {
        "id": "xTIn6UYAWOri"
      },
      "outputs": [],
      "source": [
        "# Faça aqui\n"
      ]
    }
  ],
  "metadata": {
    "colab": {
      "provenance": []
    },
    "kernelspec": {
      "display_name": "Python 3",
      "name": "python3"
    },
    "language_info": {
      "name": "python",
      "version": "3.7.9"
    }
  },
  "nbformat": 4,
  "nbformat_minor": 0
}
