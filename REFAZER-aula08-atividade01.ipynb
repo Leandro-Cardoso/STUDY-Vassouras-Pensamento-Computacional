{
  "nbformat": 4,
  "nbformat_minor": 0,
  "metadata": {
    "colab": {
      "provenance": []
    },
    "kernelspec": {
      "name": "python3",
      "display_name": "Python 3"
    },
    "language_info": {
      "name": "python"
    }
  },
  "cells": [
    {
      "cell_type": "markdown",
      "source": [
        "*Questão 1: Controle de Estoque de uma Livraria**\n",
        "Uma livraria está fazendo seu inventário mensal. Os títulos e as respectivas quantidades de livros no estoque são listados abaixo:\n",
        "\n",
        "```python\n",
        "titulos = ['Aventuras Espaciais', 'O Jardim Secreto', 'História da Magia', 'Física Quântica Simplificada', 'As Viagens de Marco Polo']\n",
        "estoque = [7, 12, 5, 3, 10]\n",
        "```\n",
        "\n",
        "a) Após uma promoção, foram vendidos 2 exemplares de 'Aventuras Espaciais', . Escreva um código para atualizar o estoque e imprima a nova lista de quantidades. Ao final imprima a nova lista, com título e quantidade de livros no estoque.\n",
        "\n",
        "**Questão 2: Análise de Temperatura Semanal**\n",
        "Uma estação meteorológica coleta dados de temperatura (em graus Celsius) ao longo da semana. Os registros são os seguintes:\n",
        "\n",
        "```python\n",
        "dias_da_semana = ['Segunda', 'Terça', 'Quarta', 'Quinta', 'Sexta', 'Sábado', 'Domingo']\n",
        "temperaturas = [22, 19, 21, 24, 24, 18, 17]\n",
        "```\n",
        "\n",
        "O meteorologista quer saber qual foi a maior temperatura registrada na semana e em que dia ocorreu. Escreva um código que identifica os dias com temperatura acima de 22 graus.\n",
        "\n",
        "**Questão 3: Registro de Pontuações de um Game**\n",
        "Em um campeonato de videogame, cinco jogadores alcançaram as seguintes pontuações máximas:\n",
        "\n",
        "```python\n",
        "jogadores = ['Carmen', 'Léo', 'Sofia', 'Matteo', 'Ana']\n",
        "pontuacoes = [45000, 52000, 48000, 47000, 51000]\n",
        "```\n",
        "\n",
        "Crie um programa utiizando for, que imprima uma média das pontuações."
      ],
      "metadata": {
        "id": "ZXlXDMZOs6_3"
      }
    },
    {
      "cell_type": "code",
      "source": [
        "# Questao 1"
      ],
      "metadata": {
        "id": "0bomseBeCLHE"
      },
      "execution_count": null,
      "outputs": []
    },
    {
      "cell_type": "code",
      "source": [
        "# Questão 2"
      ],
      "metadata": {
        "id": "QD3CY9w3CRRR"
      },
      "execution_count": null,
      "outputs": []
    },
    {
      "cell_type": "code",
      "source": [
        "# Questão 3"
      ],
      "metadata": {
        "id": "O2iO8WlMCTbU"
      },
      "execution_count": null,
      "outputs": []
    },
    {
      "cell_type": "code",
      "source": [],
      "metadata": {
        "id": "gHyTof7JCU1a"
      },
      "execution_count": null,
      "outputs": []
    },
    {
      "cell_type": "markdown",
      "source": [
        "**Questão 4**: Escreva um programa que peça ao usuário para criar um nome de usuário. Se o nome de usuário inserido não seguir os critérios especificados (por exemplo, deve ter entre 5 e 10 caracteres, contendo apenas letras e números), o programa deverá solicitar que o usuário o insira novamente até que um nome de usuário válido seja fornecido.\n",
        "\n",
        "**Questão 5**: Validação de Formato de Email: Implemente um programa que peça ao usuário seu endereço de email. O programa deve verificar se o email segue um formato válido (contendo um @ e um .). Se o formato estiver incorreto, o programa deve continuar solicitando um email válido até que um seja fornecido."
      ],
      "metadata": {
        "id": "Cbhq7vdPHEii"
      }
    },
    {
      "cell_type": "code",
      "source": [
        "# Questão 4"
      ],
      "metadata": {
        "id": "sDagBR4XHLey"
      },
      "execution_count": null,
      "outputs": []
    },
    {
      "cell_type": "code",
      "source": [
        "# Questão 5"
      ],
      "metadata": {
        "id": "pcPR9HsFH4aS"
      },
      "execution_count": null,
      "outputs": []
    }
  ]
}